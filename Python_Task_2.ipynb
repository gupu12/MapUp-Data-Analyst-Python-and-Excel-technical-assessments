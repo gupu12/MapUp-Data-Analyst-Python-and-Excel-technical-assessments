{
  "nbformat": 4,
  "nbformat_minor": 0,
  "metadata": {
    "colab": {
      "provenance": []
    },
    "kernelspec": {
      "name": "python3",
      "display_name": "Python 3"
    },
    "language_info": {
      "name": "python"
    }
  },
  "cells": [
    {
      "cell_type": "code",
      "execution_count": 1,
      "metadata": {
        "id": "2gsqMnRqTyOH"
      },
      "outputs": [],
      "source": [
        "import pandas as pd\n",
        "from datetime import datetime, time, timedelta"
      ]
    },
    {
      "cell_type": "markdown",
      "source": [
        "Question 1: Distance Matrix Calculation"
      ],
      "metadata": {
        "id": "zoI-D1uSUR_C"
      }
    },
    {
      "cell_type": "code",
      "source": [
        "def calculate_distance_matrix(dataset):\n",
        "    df = pd.read_csv(dataset)\n",
        "    distance_table = pd.pivot_table(df, values='distance', index='source', columns='destination', fill_value=0)\n",
        "    distance_matrix = distance_table + distance_table.transpose()\n",
        "    distance_matrix.values[[range(distance_matrix.shape[0])]*2] = 0\n",
        "    for i in range(distance_matrix.shape[0]):\n",
        "        for j in range(i + 1, distance_matrix.shape[1]):\n",
        "            if distance_matrix.iloc[i, j] == 0:\n",
        "                for k in range(distance_matrix.shape[0]):\n",
        "                    if k != i and k != j and distance_matrix.iloc[i, k] != 0 and distance_matrix.iloc[k, j] != 0:\n",
        "                        distance_matrix.iloc[i, j] = distance_matrix.iloc[i, k] + distance_matrix.iloc[k, j]\n",
        "                        distance_matrix.iloc[j, i] = distance_matrix.iloc[i, j]\n",
        "                        break\n",
        "    return distance_matrix"
      ],
      "metadata": {
        "id": "px2v9TVfUSVl"
      },
      "execution_count": 3,
      "outputs": []
    },
    {
      "cell_type": "markdown",
      "source": [
        "Question 2: Unroll Distance Matrix"
      ],
      "metadata": {
        "id": "uNFBweDsUSpl"
      }
    },
    {
      "cell_type": "code",
      "source": [
        "def unroll_distance_matrix(distance_matrix):\n",
        "    columns = distance_matrix.columns\n",
        "    indices = distance_matrix.index\n",
        "    unrolled_distances = []\n",
        "    for id_start in columns:\n",
        "        for id_end in indices:\n",
        "            if id_start != id_end:\n",
        "                distance = distance_matrix.loc[id_end, id_start]\n",
        "                unrolled_distances.append([id_start, id_end, distance])\n",
        "    result_df = pd.DataFrame(unrolled_distances, columns=['id_start', 'id_end', 'distance'])\n",
        "    return result_df"
      ],
      "metadata": {
        "id": "Xa7YZm-1US6h"
      },
      "execution_count": 4,
      "outputs": []
    },
    {
      "cell_type": "markdown",
      "source": [
        "Question 3: Finding IDs within Percentage Threshold"
      ],
      "metadata": {
        "id": "HLyPi9RaUTKn"
      }
    },
    {
      "cell_type": "code",
      "source": [
        "def find_ids_within_ten_percentage_threshold(df, reference_id):\n",
        "    reference_df = df[df['id_start'] ==reference_id]\n",
        "    average_distance = reference_df['distance'].mean()\n",
        "    lower_bound = average_distance - 0.1 * average_distance\n",
        "    upper_bound = average_distance + 0.1 * average_distance\n",
        "    filtered_df = df[(df['id_start'] != reference_id) & (df['distance'] >= lower_bound) & (df['distance'] <= upper_bound)]\n",
        "    result_list = sorted(filtered_df['id_start'].unique())\n",
        "    return result_list"
      ],
      "metadata": {
        "id": "1YcE2X-ZUTbV"
      },
      "execution_count": 5,
      "outputs": []
    },
    {
      "cell_type": "markdown",
      "source": [
        "uestion 4: Calculate Toll Rate"
      ],
      "metadata": {
        "id": "88eX1-a4UTs4"
      }
    },
    {
      "cell_type": "code",
      "source": [
        "def calculate_toll_rate(df):\n",
        "    df['moto'] = df['distance'] * 0.8\n",
        "    df['car'] = df['distance'] * 1.2\n",
        "    df['rv'] = df['distance'] * 1.5\n",
        "    df['bus'] = df['distance'] * 2.2\n",
        "    df['truck'] = df['distance'] * 3.6\n",
        "    return df"
      ],
      "metadata": {
        "id": "W1eNum4TUT-i"
      },
      "execution_count": 6,
      "outputs": []
    },
    {
      "cell_type": "markdown",
      "source": [
        "Question 5: Calculate Time-Based Toll Rates"
      ],
      "metadata": {
        "id": "tCSfB5zeUUPb"
      }
    },
    {
      "cell_type": "code",
      "source": [
        "def calculate_time_based_toll_rates(df):\n",
        "    df['start_datetime'] = pd.to_datetime(df['startDay'] + ' ' + df['startTime'])\n",
        "    df['end_datetime'] = pd.to_datetime(df['endDay'] + ' ' + df['endTime'])\n",
        "    df['start_day'] = df['start_datetime'].dt.day_name()\n",
        "    df['end_day'] = df['end_datetime'].dt.day_name()\n",
        "    df['start_time'] = df['start_datetime'].dt.time\n",
        "    df['end_time'] = df['end_datetime'].dt.time\n",
        "    weekday_ranges = [\n",
        "        (time(0, 0, 0), time(10, 0, 0)),\n",
        "        (time(10, 0, 0), time(18, 0, 0)),\n",
        "        (time(18, 0, 0), time(23, 59, 59))\n",
        "    ]\n",
        "    for start, end in weekday_ranges:\n",
        "        mask = (df['start_datetime'].dt.time >= start) & (df['start_datetime'].dt.time < end)\n",
        "        df.loc[mask, ['moto', 'car', 'rv', 'bus', 'truck']] *= 0.8 if start == time(0, 0, 0) else 1.2\n",
        "    weekend_mask = (df['start_datetime'].dt.weekday >= 5)\n",
        "    df.loc[weekend_mask, ['moto', 'car', 'rv', 'bus', 'truck']] *= 0.7\n",
        "    df = df.drop(columns=['start_datetime', 'end_datetime'])\n",
        "    return df"
      ],
      "metadata": {
        "id": "JLaqhL5sUUen"
      },
      "execution_count": 2,
      "outputs": []
    },
    {
      "cell_type": "code",
      "source": [],
      "metadata": {
        "id": "yVx2CH84UQZo"
      },
      "execution_count": 2,
      "outputs": []
    }
  ]
}