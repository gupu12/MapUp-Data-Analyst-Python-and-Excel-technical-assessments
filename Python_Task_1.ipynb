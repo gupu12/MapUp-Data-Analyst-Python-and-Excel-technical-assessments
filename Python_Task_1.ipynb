{
  "nbformat": 4,
  "nbformat_minor": 0,
  "metadata": {
    "colab": {
      "provenance": []
    },
    "kernelspec": {
      "name": "python3",
      "display_name": "Python 3"
    },
    "language_info": {
      "name": "python"
    }
  },
  "cells": [
    {
      "cell_type": "code",
      "execution_count": 6,
      "metadata": {
        "id": "G2bnIb-9RSfE"
      },
      "outputs": [],
      "source": [
        "import pandas as pd"
      ]
    },
    {
      "cell_type": "code",
      "source": [
        "dataset_path = 'dataset-1.csv'\n",
        "result_matrix = generate_car_matrix(dataset_path)"
      ],
      "metadata": {
        "id": "-mS4OFizRoLz"
      },
      "execution_count": 7,
      "outputs": []
    },
    {
      "cell_type": "markdown",
      "source": [
        "Question 1: Car Matrix Generation"
      ],
      "metadata": {
        "id": "CE4TkFsdRdRQ"
      }
    },
    {
      "cell_type": "code",
      "source": [
        "def generate_car_matrix(dataset):\n",
        "    df = pd.read_csv(dataset)\n",
        "    car_matrix = pd.pivot_table(df, values='car', index='id_1', columns='id_2', fill_value=0)\n",
        "    for i in range(min(car_matrix.shape[0], car_matrix.shape[1])):\n",
        "        car_matrix.iloc[i, i] = 0\n",
        "    return car_matrix"
      ],
      "metadata": {
        "id": "11QoSC0SSXC3"
      },
      "execution_count": 8,
      "outputs": []
    },
    {
      "cell_type": "markdown",
      "source": [
        "Question 2: Car Type Count Calculation"
      ],
      "metadata": {
        "id": "TG_5UnXgSksX"
      }
    },
    {
      "cell_type": "code",
      "source": [
        "def get_type_count(dataset):\n",
        "    df = pd.read_csv(dataset)\n",
        "    conditions = [\n",
        "        (df['car'] <= 15),\n",
        "        (df['car'] > 15) & (df['car'] <= 25),\n",
        "        (df['car'] > 25)\n",
        "    ]\n",
        "    choices = ['low', 'medium', 'high']\n",
        "    df['car_type'] = np.select(conditions, choices, default='unknown')\n",
        "    type_counts = df['car_type'].value_counts().to_dict()\n",
        "    sorted_type_counts = dict(sorted(type_counts.items()))\n",
        "    return sorted_type_counts"
      ],
      "metadata": {
        "id": "6DLdEO4TSZyW"
      },
      "execution_count": 9,
      "outputs": []
    },
    {
      "cell_type": "markdown",
      "source": [
        "Question 3: Bus Count Index Retrieval"
      ],
      "metadata": {
        "id": "8kZmuRC1Sq8j"
      }
    },
    {
      "cell_type": "code",
      "source": [
        "def get_bus_indexes(dataset):\n",
        "    df = pd.read_csv(dataset)\n",
        "    bus_mean = df['bus'].mean()\n",
        "    bus_indexes = df[df['bus'] > 2 * bus_mean].index.tolist()\n",
        "    bus_indexes.sort()\n",
        "    return bus_indexes"
      ],
      "metadata": {
        "id": "8JaQFLLOSu3Z"
      },
      "execution_count": 10,
      "outputs": []
    },
    {
      "cell_type": "markdown",
      "source": [
        "Question 4: Route Filtering"
      ],
      "metadata": {
        "id": "PKSgG6JiTALf"
      }
    },
    {
      "cell_type": "code",
      "source": [
        "def filter_routes(dataset):\n",
        "    df = pd.read_csv(dataset)\n",
        "    route_avg_truck = df.groupby('route')['truck'].mean()\n",
        "    filtered_routes = route_avg_truck[route_avg_truck > 7].index.tolist()\n",
        "    filtered_routes.sort()\n",
        "    return filtered_routes"
      ],
      "metadata": {
        "id": "GEUsoFCbTEJV"
      },
      "execution_count": 11,
      "outputs": []
    },
    {
      "cell_type": "markdown",
      "source": [
        "Question 5: Matrix Value Modification"
      ],
      "metadata": {
        "id": "KqQmR0k-THS4"
      }
    },
    {
      "cell_type": "code",
      "source": [
        "def multiply_matrix(input_matrix):\n",
        "    modified_matrix = input_matrix.copy()\n",
        "    modified_matrix = modified_matrix.applymap(lambda x: x * 0.75 if x > 20 else x * 1.25)\n",
        "    modified_matrix = modified_matrix.round(1)\n",
        "    return modified_matrix"
      ],
      "metadata": {
        "id": "za3rxXyjTKXm"
      },
      "execution_count": 12,
      "outputs": []
    },
    {
      "cell_type": "markdown",
      "source": [
        "Question 6: Time Check"
      ],
      "metadata": {
        "id": "CYopdorFTN6p"
      }
    },
    {
      "cell_type": "code",
      "source": [
        "def time_check(df):\n",
        "    df['start_datetime'] = pd.to_datetime(df['startDay'] + ' ' + df['startTime'])\n",
        "    df['end_datetime'] = pd.to_datetime(df['endDay'] + ' ' + df['endTime'])\n",
        "    df['duration'] = (df['end_datetime'] - df['start_datetime']).dt.total_seconds()\n",
        "    incorrect_timestamps = (\n",
        "        df.groupby(['id', 'id_2'])\n",
        "        .apply(lambda group: not (\n",
        "            group['start_datetime'].min().time() == pd.Timestamp('00:00:00').time() and\n",
        "            group['end_datetime'].max().time() == pd.Timestamp('23:59:59').time() and\n",
        "            group['duration'].sum() == 24 * 60 * 60\n",
        "        ))\n",
        "    )\n",
        "    return incorrect_timestamps"
      ],
      "metadata": {
        "id": "-1hFslpvTQsy"
      },
      "execution_count": 13,
      "outputs": []
    }
  ]
}